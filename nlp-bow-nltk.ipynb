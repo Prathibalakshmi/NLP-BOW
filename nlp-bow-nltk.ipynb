{
 "cells": [
  {
   "cell_type": "markdown",
   "metadata": {},
   "source": [
    "# <center> Applications in Natural Language Processing <center>"
   ]
  },
  {
   "cell_type": "markdown",
   "metadata": {},
   "source": [
    "Natural Language Processing (NLP) is concerned with machine-human collaboration. It \n",
    "helps computers read, interpret, and understand the human language so that machines \n",
    "can carry our repetitive and high-volume tasks. It is the field of Artificial Intelligence (AI) \n",
    "that focuses on quantifying human language to make it intelligible to machines by \n",
    "combining the power of linguistics and computer science to study the rules and structure\n",
    "of language and create intelligent systems."
   ]
  },
  {
   "cell_type": "markdown",
   "metadata": {},
   "source": [
    "### Problem Statement:\n",
    "Using NLP we can easily analyse any given text. The steps involved for such an analysis are \n",
    "tokenization, pre processing each word and then finally vectorising each of them. One of the \n",
    "most common and easy to implement vectorisation algorithm is BoW. Using BoW and NLTK \n",
    "for processing, implement a simple spam filter that marks all the spam texts as dangerous"
   ]
  },
  {
   "cell_type": "markdown",
   "metadata": {},
   "source": [
    "### Procedure:\n",
    "- import libraries\n",
    "- Data Preparation\n",
    "- Text Preprocessing\n",
    "- Create Bag-of-Words(Bow) Vectors\n",
    "- Training the Model\n",
    "- Classify New Message\n"
   ]
  },
  {
   "cell_type": "markdown",
   "metadata": {},
   "source": [
    "### Importing Libraries"
   ]
  },
  {
   "cell_type": "code",
   "execution_count": 3,
   "metadata": {
    "execution": {
     "iopub.execute_input": "2023-08-15T11:31:54.322206Z",
     "iopub.status.busy": "2023-08-15T11:31:54.321196Z",
     "iopub.status.idle": "2023-08-15T11:31:54.327917Z",
     "shell.execute_reply": "2023-08-15T11:31:54.327084Z",
     "shell.execute_reply.started": "2023-08-15T11:31:54.322164Z"
    }
   },
   "outputs": [],
   "source": [
    "import nltk\n",
    "import string\n",
    "from nltk.corpus import stopwords\n",
    "from nltk.tokenize import word_tokenize\n",
    "from sklearn.feature_extraction.text import CountVectorizer\n",
    "from sklearn.naive_bayes import MultinomialNB"
   ]
  },
  {
   "cell_type": "markdown",
   "metadata": {},
   "source": [
    "### Data Preparation:\n",
    "Preparing the dat with both spam and non-spam(ham) messages"
   ]
  },
  {
   "cell_type": "code",
   "execution_count": 4,
   "metadata": {
    "execution": {
     "iopub.execute_input": "2023-08-15T11:31:55.368526Z",
     "iopub.status.busy": "2023-08-15T11:31:55.367755Z",
     "iopub.status.idle": "2023-08-15T11:31:55.373743Z",
     "shell.execute_reply": "2023-08-15T11:31:55.372973Z",
     "shell.execute_reply.started": "2023-08-15T11:31:55.368484Z"
    }
   },
   "outputs": [],
   "source": [
    "\n",
    "messages = [\n",
    "    (\"Win a free iPhone now!\", \"spam\"),\n",
    "    (\"Hey, how's it going?\", \"ham\"),\n",
    "    (\"Congratulations, you've won a prize!\", \"spam\"),\n",
    "    (\"Can we meet tomorrow?\", \"ham\"),\n",
    "]\n"
   ]
  },
  {
   "cell_type": "markdown",
   "metadata": {},
   "source": [
    "### Text Preprocessing"
   ]
  },
  {
   "cell_type": "code",
   "execution_count": 7,
   "metadata": {
    "execution": {
     "iopub.execute_input": "2023-08-15T11:48:49.657038Z",
     "iopub.status.busy": "2023-08-15T11:48:49.656580Z",
     "iopub.status.idle": "2023-08-15T11:48:49.678703Z",
     "shell.execute_reply": "2023-08-15T11:48:49.677474Z",
     "shell.execute_reply.started": "2023-08-15T11:48:49.657006Z"
    }
   },
   "outputs": [
    {
     "name": "stdout",
     "output_type": "stream",
     "text": [
      "[nltk_data] Downloading package punkt to /usr/share/nltk_data...\n",
      "[nltk_data]   Package punkt is already up-to-date!\n",
      "[nltk_data] Downloading package stopwords to /usr/share/nltk_data...\n",
      "[nltk_data]   Package stopwords is already up-to-date!\n"
     ]
    }
   ],
   "source": [
    "nltk.download('punkt')\n",
    "nltk.download('stopwords')\n",
    "\n",
    "def preprocess_text(text):\n",
    "    # Tokenization\n",
    "    words = word_tokenize(text.lower())\n",
    "    \n",
    "    # Removing punctuation and stopwords\n",
    "    words = [word for word in words if word.isalpha() and word not in stopwords.words('english')]\n",
    "    \n",
    "    return ' '.join(words)\n",
    "\n",
    "# Preprocess messages\n",
    "preprocessed_messages = [(preprocess_text(text), label) for text, label in messages]\n"
   ]
  },
  {
   "cell_type": "markdown",
   "metadata": {},
   "source": [
    "### Creating Bag-of-Words(BoW)Vectors:\n",
    "Converting the preprocessed text data into BoW vectors using 'CountVectorizer' from scikit-learn"
   ]
  },
  {
   "cell_type": "code",
   "execution_count": 9,
   "metadata": {
    "execution": {
     "iopub.execute_input": "2023-08-15T11:53:10.142939Z",
     "iopub.status.busy": "2023-08-15T11:53:10.142518Z",
     "iopub.status.idle": "2023-08-15T11:53:10.157630Z",
     "shell.execute_reply": "2023-08-15T11:53:10.156618Z",
     "shell.execute_reply.started": "2023-08-15T11:53:10.142905Z"
    }
   },
   "outputs": [],
   "source": [
    "# Create the BoW vectors\n",
    "vectorizer = CountVectorizer()\n",
    "X = vectorizer.fit_transform([message for message, label in preprocessed_messages])"
   ]
  },
  {
   "cell_type": "markdown",
   "metadata": {},
   "source": [
    "### Training the Model: Train a Naive Bayes Classifier using the BoW Vectors."
   ]
  },
  {
   "cell_type": "code",
   "execution_count": 10,
   "metadata": {
    "execution": {
     "iopub.execute_input": "2023-08-15T11:56:26.895028Z",
     "iopub.status.busy": "2023-08-15T11:56:26.894666Z",
     "iopub.status.idle": "2023-08-15T11:56:26.913982Z",
     "shell.execute_reply": "2023-08-15T11:56:26.912997Z",
     "shell.execute_reply.started": "2023-08-15T11:56:26.895002Z"
    }
   },
   "outputs": [
    {
     "data": {
      "text/html": [
       "<style>#sk-container-id-1 {color: black;background-color: white;}#sk-container-id-1 pre{padding: 0;}#sk-container-id-1 div.sk-toggleable {background-color: white;}#sk-container-id-1 label.sk-toggleable__label {cursor: pointer;display: block;width: 100%;margin-bottom: 0;padding: 0.3em;box-sizing: border-box;text-align: center;}#sk-container-id-1 label.sk-toggleable__label-arrow:before {content: \"▸\";float: left;margin-right: 0.25em;color: #696969;}#sk-container-id-1 label.sk-toggleable__label-arrow:hover:before {color: black;}#sk-container-id-1 div.sk-estimator:hover label.sk-toggleable__label-arrow:before {color: black;}#sk-container-id-1 div.sk-toggleable__content {max-height: 0;max-width: 0;overflow: hidden;text-align: left;background-color: #f0f8ff;}#sk-container-id-1 div.sk-toggleable__content pre {margin: 0.2em;color: black;border-radius: 0.25em;background-color: #f0f8ff;}#sk-container-id-1 input.sk-toggleable__control:checked~div.sk-toggleable__content {max-height: 200px;max-width: 100%;overflow: auto;}#sk-container-id-1 input.sk-toggleable__control:checked~label.sk-toggleable__label-arrow:before {content: \"▾\";}#sk-container-id-1 div.sk-estimator input.sk-toggleable__control:checked~label.sk-toggleable__label {background-color: #d4ebff;}#sk-container-id-1 div.sk-label input.sk-toggleable__control:checked~label.sk-toggleable__label {background-color: #d4ebff;}#sk-container-id-1 input.sk-hidden--visually {border: 0;clip: rect(1px 1px 1px 1px);clip: rect(1px, 1px, 1px, 1px);height: 1px;margin: -1px;overflow: hidden;padding: 0;position: absolute;width: 1px;}#sk-container-id-1 div.sk-estimator {font-family: monospace;background-color: #f0f8ff;border: 1px dotted black;border-radius: 0.25em;box-sizing: border-box;margin-bottom: 0.5em;}#sk-container-id-1 div.sk-estimator:hover {background-color: #d4ebff;}#sk-container-id-1 div.sk-parallel-item::after {content: \"\";width: 100%;border-bottom: 1px solid gray;flex-grow: 1;}#sk-container-id-1 div.sk-label:hover label.sk-toggleable__label {background-color: #d4ebff;}#sk-container-id-1 div.sk-serial::before {content: \"\";position: absolute;border-left: 1px solid gray;box-sizing: border-box;top: 0;bottom: 0;left: 50%;z-index: 0;}#sk-container-id-1 div.sk-serial {display: flex;flex-direction: column;align-items: center;background-color: white;padding-right: 0.2em;padding-left: 0.2em;position: relative;}#sk-container-id-1 div.sk-item {position: relative;z-index: 1;}#sk-container-id-1 div.sk-parallel {display: flex;align-items: stretch;justify-content: center;background-color: white;position: relative;}#sk-container-id-1 div.sk-item::before, #sk-container-id-1 div.sk-parallel-item::before {content: \"\";position: absolute;border-left: 1px solid gray;box-sizing: border-box;top: 0;bottom: 0;left: 50%;z-index: -1;}#sk-container-id-1 div.sk-parallel-item {display: flex;flex-direction: column;z-index: 1;position: relative;background-color: white;}#sk-container-id-1 div.sk-parallel-item:first-child::after {align-self: flex-end;width: 50%;}#sk-container-id-1 div.sk-parallel-item:last-child::after {align-self: flex-start;width: 50%;}#sk-container-id-1 div.sk-parallel-item:only-child::after {width: 0;}#sk-container-id-1 div.sk-dashed-wrapped {border: 1px dashed gray;margin: 0 0.4em 0.5em 0.4em;box-sizing: border-box;padding-bottom: 0.4em;background-color: white;}#sk-container-id-1 div.sk-label label {font-family: monospace;font-weight: bold;display: inline-block;line-height: 1.2em;}#sk-container-id-1 div.sk-label-container {text-align: center;}#sk-container-id-1 div.sk-container {/* jupyter's `normalize.less` sets `[hidden] { display: none; }` but bootstrap.min.css set `[hidden] { display: none !important; }` so we also need the `!important` here to be able to override the default hidden behavior on the sphinx rendered scikit-learn.org. See: https://github.com/scikit-learn/scikit-learn/issues/21755 */display: inline-block !important;position: relative;}#sk-container-id-1 div.sk-text-repr-fallback {display: none;}</style><div id=\"sk-container-id-1\" class=\"sk-top-container\"><div class=\"sk-text-repr-fallback\"><pre>MultinomialNB()</pre><b>In a Jupyter environment, please rerun this cell to show the HTML representation or trust the notebook. <br />On GitHub, the HTML representation is unable to render, please try loading this page with nbviewer.org.</b></div><div class=\"sk-container\" hidden><div class=\"sk-item\"><div class=\"sk-estimator sk-toggleable\"><input class=\"sk-toggleable__control sk-hidden--visually\" id=\"sk-estimator-id-1\" type=\"checkbox\" checked><label for=\"sk-estimator-id-1\" class=\"sk-toggleable__label sk-toggleable__label-arrow\">MultinomialNB</label><div class=\"sk-toggleable__content\"><pre>MultinomialNB()</pre></div></div></div></div></div>"
      ],
      "text/plain": [
       "MultinomialNB()"
      ]
     },
     "execution_count": 10,
     "metadata": {},
     "output_type": "execute_result"
    }
   ],
   "source": [
    "# Prepare labels\n",
    "y=[label for message,label in preprocessed_messages]\n",
    "\n",
    "# Train a Naive Bayes Classifier\n",
    "classifier=MultinomialNB()\n",
    "classifier.fit(X,y)"
   ]
  },
  {
   "cell_type": "markdown",
   "metadata": {},
   "source": [
    "### Classify a new message"
   ]
  },
  {
   "cell_type": "code",
   "execution_count": 12,
   "metadata": {
    "execution": {
     "iopub.execute_input": "2023-08-15T12:03:16.438298Z",
     "iopub.status.busy": "2023-08-15T12:03:16.437926Z",
     "iopub.status.idle": "2023-08-15T12:03:16.443936Z",
     "shell.execute_reply": "2023-08-15T12:03:16.442684Z",
     "shell.execute_reply.started": "2023-08-15T12:03:16.438270Z"
    }
   },
   "outputs": [],
   "source": [
    "def classify_message(text):\n",
    "    preprocessed_text = preprocess_text(text)\n",
    "    vectorized_text = vectorizer.transform([preprocessed_text])\n",
    "    prediction = classifier.predict(vectorized_text)\n",
    "    return prediction[0]"
   ]
  },
  {
   "cell_type": "markdown",
   "metadata": {},
   "source": [
    "### Test the classifier"
   ]
  },
  {
   "cell_type": "code",
   "execution_count": 13,
   "metadata": {
    "execution": {
     "iopub.execute_input": "2023-08-15T12:03:18.264947Z",
     "iopub.status.busy": "2023-08-15T12:03:18.263902Z",
     "iopub.status.idle": "2023-08-15T12:03:18.274795Z",
     "shell.execute_reply": "2023-08-15T12:03:18.273487Z",
     "shell.execute_reply.started": "2023-08-15T12:03:18.264902Z"
    }
   },
   "outputs": [
    {
     "name": "stdout",
     "output_type": "stream",
     "text": [
      "This message is marked as spam.\n"
     ]
    }
   ],
   "source": [
    "# Test the classifier\n",
    "new_message = \"Congratulations, you've won $1000!\"\n",
    "classification = classify_message(new_message)\n",
    "if classification == \"spam\":\n",
    "    print(\"This message is marked as spam.\")\n",
    "else:\n",
    "    print(\"This message is not spam.\")\n"
   ]
  }
 ],
 "metadata": {
  "kernelspec": {
   "display_name": "Python 3 (ipykernel)",
   "language": "python",
   "name": "python3"
  },
  "language_info": {
   "codemirror_mode": {
    "name": "ipython",
    "version": 3
   },
   "file_extension": ".py",
   "mimetype": "text/x-python",
   "name": "python",
   "nbconvert_exporter": "python",
   "pygments_lexer": "ipython3",
   "version": "3.10.9"
  }
 },
 "nbformat": 4,
 "nbformat_minor": 4
}
